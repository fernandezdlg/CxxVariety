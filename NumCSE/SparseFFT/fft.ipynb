{
 "cells": [
  {
   "cell_type": "code",
   "execution_count": 19,
   "metadata": {},
   "outputs": [],
   "source": [
    "import numpy as np\n",
    "from numpy.fft import fft, ifft\n",
    "import scipy.fft as spfft\n",
    "import matplotlib.pyplot as plt\n",
    "from numpy import convolve\n"
   ]
  },
  {
   "cell_type": "code",
   "execution_count": 23,
   "metadata": {},
   "outputs": [],
   "source": [
    "u = np.array([1, 2, 3, 4, 5, 6, 7, 8, 9])"
   ]
  },
  {
   "cell_type": "code",
   "execution_count": 24,
   "metadata": {},
   "outputs": [
    {
     "data": {
      "text/plain": [
       "array([45.  +0.j        , -4.5+12.36364839j, -4.5 +5.36289117j,\n",
       "       -4.5 +2.59807621j, -4.5 +0.79347141j, -4.5 -0.79347141j,\n",
       "       -4.5 -2.59807621j, -4.5 -5.36289117j, -4.5-12.36364839j])"
      ]
     },
     "execution_count": 24,
     "metadata": {},
     "output_type": "execute_result"
    }
   ],
   "source": [
    "fft(u)"
   ]
  },
  {
   "cell_type": "code",
   "execution_count": 15,
   "metadata": {},
   "outputs": [],
   "source": [
    "v = u.copy()"
   ]
  },
  {
   "cell_type": "code",
   "execution_count": 22,
   "metadata": {},
   "outputs": [
    {
     "data": {
      "text/plain": [
       "array([  1.-2.44444084e-15j,   4.-3.84677341e-15j,  10.-1.88002722e-15j,\n",
       "        20.-1.11130229e-15j,  35.-8.35059495e-15j,  56.-8.99043252e-15j,\n",
       "        84.+3.91996693e-15j, 120.-2.99780923e-16j, 147.-3.72005675e-15j,\n",
       "       164.+3.91996693e-15j, 170.+6.80796849e-15j, 164.+3.38769267e-15j,\n",
       "       145.-1.11130229e-15j, 112.+7.17947687e-15j,  64.+6.53963930e-15j])"
      ]
     },
     "execution_count": 22,
     "metadata": {},
     "output_type": "execute_result"
    }
   ],
   "source": [
    "n = len(u) + len(v) - 1\n",
    "u.resize(n)\n",
    "v.resize(n)\n",
    "\n",
    "ifft(fft(u) * fft(v))"
   ]
  },
  {
   "cell_type": "code",
   "execution_count": 20,
   "metadata": {},
   "outputs": [
    {
     "data": {
      "text/plain": [
       "array([  1,   4,  10,  20,  35,  56,  84, 120, 147, 164, 170, 164, 145,\n",
       "       112,  64])"
      ]
     },
     "execution_count": 20,
     "metadata": {},
     "output_type": "execute_result"
    }
   ],
   "source": [
    "convolve(u, v)"
   ]
  },
  {
   "cell_type": "code",
   "execution_count": null,
   "metadata": {},
   "outputs": [],
   "source": [
    "\""
   ]
  }
 ],
 "metadata": {
  "kernelspec": {
   "display_name": "basic",
   "language": "python",
   "name": "python3"
  },
  "language_info": {
   "codemirror_mode": {
    "name": "ipython",
    "version": 3
   },
   "file_extension": ".py",
   "mimetype": "text/x-python",
   "name": "python",
   "nbconvert_exporter": "python",
   "pygments_lexer": "ipython3",
   "version": "3.11.4"
  }
 },
 "nbformat": 4,
 "nbformat_minor": 2
}
